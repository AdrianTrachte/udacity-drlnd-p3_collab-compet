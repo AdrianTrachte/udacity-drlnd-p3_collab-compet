{
 "cells": [
  {
   "cell_type": "code",
   "execution_count": 1,
   "metadata": {},
   "outputs": [
    {
     "ename": "IndentationError",
     "evalue": "unexpected indent (utils.py, line 60)",
     "output_type": "error",
     "traceback": [
      "Traceback \u001b[1;36m(most recent call last)\u001b[0m:\n",
      "  File \u001b[0;32m\"C:\\Users\\adria\\Anaconda3\\envs\\drlnd\\lib\\site-packages\\IPython\\core\\interactiveshell.py\"\u001b[0m, line \u001b[0;32m3296\u001b[0m, in \u001b[0;35mrun_code\u001b[0m\n    exec(code_obj, self.user_global_ns, self.user_ns)\n",
      "\u001b[1;36m  File \u001b[1;32m\"<ipython-input-1-dd80eee693e1>\"\u001b[1;36m, line \u001b[1;32m12\u001b[1;36m, in \u001b[1;35m<module>\u001b[1;36m\u001b[0m\n\u001b[1;33m    import utils as ut\u001b[0m\n",
      "\u001b[1;36m  File \u001b[1;32m\"C:\\Users\\adria\\Documents\\udacity\\DRL\\scripts\\deep-reinforcement-learning\\p3_collab-compet\\utils.py\"\u001b[1;36m, line \u001b[1;32m60\u001b[0m\n\u001b[1;33m    for i in range(len(agents)):\u001b[0m\n\u001b[1;37m    ^\u001b[0m\n\u001b[1;31mIndentationError\u001b[0m\u001b[1;31m:\u001b[0m unexpected indent\n"
     ]
    }
   ],
   "source": [
    "# import general stuff\n",
    "import os\n",
    "import random\n",
    "import torch\n",
    "import numpy as np\n",
    "from collections import deque\n",
    "import matplotlib.pyplot as plt\n",
    "%matplotlib inline\n",
    "import pickle\n",
    "\n",
    "# importing own stuff\n",
    "import utils as ut\n",
    "from ddpg_agent import Agent\n",
    "from ddpg_agent import ReplayBuffer"
   ]
  },
  {
   "cell_type": "markdown",
   "metadata": {},
   "source": [
    "### plot the main results"
   ]
  },
  {
   "cell_type": "code",
   "execution_count": null,
   "metadata": {},
   "outputs": [],
   "source": [
    "with open('./data/scores_MADDPG_episodes4000_1.pkl', 'rb') as f:\n",
    "    scores = pickle.load(f)\n",
    "\n",
    "scores_ma = ut.moving_average(scores)\n",
    "h = plt.plot(scores, alpha=0.5)\n",
    "plt.plot(scores_ma, label='mean score', c=h[-1].get_color())\n",
    "plt.plot([0, len(scores)], [0.5, 0.5], 'k--', label='goal')\n",
    "plt.legend(loc='best')\n",
    "plt.ylabel('Score')\n",
    "plt.xlabel('Episode #')\n",
    "plt.title('scores of successful DDPG agents')\n",
    "plt.savefig('./data/MADDPG_results_report.png')\n",
    "plt.show()"
   ]
  },
  {
   "cell_type": "markdown",
   "metadata": {},
   "source": [
    "### Do some time analysis for softupdate, that is the Tau value"
   ]
  },
  {
   "cell_type": "code",
   "execution_count": null,
   "metadata": {},
   "outputs": [],
   "source": [
    "TAU = 0.005               # for soft update of target parameters\n",
    "nEpisodes = 1000\n",
    "\n",
    "# start value and input value\n",
    "y,c,a = [], [], []\n",
    "y.append(0) # initial value\n",
    "\n",
    "u = 1       # input value\n",
    "for i in range(nEpisodes):\n",
    "    y.append((1-TAU)*y[-1] + TAU*u) \n",
    "\n",
    "plt.plot(y, label='target value')\n",
    "plt.legend(loc='best')\n",
    "plt.ylabel('Signal')\n",
    "plt.xlabel('Episode #')\n",
    "plt.show()\n"
   ]
  },
  {
   "cell_type": "markdown",
   "metadata": {},
   "source": [
    "### Analyze noise for exploration"
   ]
  },
  {
   "cell_type": "code",
   "execution_count": null,
   "metadata": {
    "scrolled": false
   },
   "outputs": [],
   "source": [
    "from ddpg_agent import OUNoise\n",
    "import random\n",
    "random_seed = 123\n",
    "\n",
    "# Noise process\n",
    "# mu=0., theta=0.15, sigma=0.2\n",
    "# mu is the center point of the distribution\n",
    "# theta draws the distribution towards the center point\n",
    "# sigma draws the distribution towards random points of normal distribution\n",
    "noise_std = OUNoise(1, random_seed)\n",
    "THETA = 1.0\n",
    "SIGMA = 0.7\n",
    "noise_1 = OUNoise(1, random_seed, 0., THETA, SIGMA)\n",
    "\n",
    "# create noise\n",
    "n_samples = 60\n",
    "noise_signal_std = [noise_std.sample() for i in range(n_samples)]\n",
    "noise_signal_1 = [noise_1.sample() for i in range(n_samples)]\n",
    "\n",
    "plt.plot(noise_signal_std, label='std config')\n",
    "plt.plot(noise_signal_1, label='theta = {}, sigma = {}'.format(THETA,SIGMA))\n",
    "plt.legend(loc='best')\n",
    "plt.ylabel('Noise signal')\n",
    "plt.xlabel('samples #')\n",
    "plt.show()"
   ]
  },
  {
   "cell_type": "markdown",
   "metadata": {},
   "source": [
    "### save trained agents"
   ]
  },
  {
   "cell_type": "code",
   "execution_count": null,
   "metadata": {},
   "outputs": [],
   "source": [
    "state_size = 24\n",
    "action_size = 2\n",
    "num_agents = 2\n",
    "memory = ReplayBuffer(action_size, int(5e5), 512, 321)    # as no training in this section, just a dummy\n",
    "\n",
    "agents = ut.load_agents(state_size, action_size, num_agents, memory)\n",
    "ut.save_agenttrained(state_size, action_size, agents) # save agent networks"
   ]
  },
  {
   "cell_type": "code",
   "execution_count": null,
   "metadata": {},
   "outputs": [],
   "source": []
  }
 ],
 "metadata": {
  "kernelspec": {
   "display_name": "drlnd",
   "language": "python",
   "name": "drlnd"
  },
  "language_info": {
   "codemirror_mode": {
    "name": "ipython",
    "version": 3
   },
   "file_extension": ".py",
   "mimetype": "text/x-python",
   "name": "python",
   "nbconvert_exporter": "python",
   "pygments_lexer": "ipython3",
   "version": "3.6.8"
  }
 },
 "nbformat": 4,
 "nbformat_minor": 2
}
